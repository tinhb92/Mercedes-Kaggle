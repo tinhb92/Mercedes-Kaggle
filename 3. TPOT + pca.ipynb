{
 "cells": [
  {
   "cell_type": "code",
   "execution_count": 1,
   "metadata": {
    "collapsed": true
   },
   "outputs": [],
   "source": [
    "import numpy as np\n",
    "import pandas as pd \n",
    "\n",
    "import os \n",
    "\n",
    "from sklearn.preprocessing import LabelEncoder"
   ]
  },
  {
   "cell_type": "code",
   "execution_count": 2,
   "metadata": {
    "collapsed": true
   },
   "outputs": [],
   "source": [
    "INPUT = '/media/tin/DATA/Kaggle/Mercedes/Input/'\n",
    "OUTPUT = '/media/tin/DATA/Kaggle/Mercedes/Output/'\n",
    "\n",
    "train = pd.read_csv(os.path.join(INPUT, 'train_pca.csv'))\n",
    "test = pd.read_csv(os.path.join(INPUT, 'test_pca.csv'))"
   ]
  },
  {
   "cell_type": "code",
   "execution_count": 6,
   "metadata": {},
   "outputs": [
    {
     "name": "stdout",
     "output_type": "stream",
     "text": [
      "\n",
      "y_train shape: (4209,)\n",
      "x_train shape: (4209, 629)\n"
     ]
    }
   ],
   "source": [
    "y_train = train[\"y\"]\n",
    "x_train = train.drop('y', axis=1)\n",
    "\n",
    "print('\\ny_train shape: {}\\nx_train shape: {}'.format(y_train.shape, x_train.shape))"
   ]
  },
  {
   "cell_type": "code",
   "execution_count": 13,
   "metadata": {},
   "outputs": [
    {
     "name": "stdout",
     "output_type": "stream",
     "text": [
      "28 operators have been imported by TPOT.\n",
      "_pre_test decorator: _generate: num_test=0 Found array with 0 feature(s) (shape=(50, 0)) while a minimum of 1 is required.\n",
      "_pre_test decorator: _generate: num_test=0 __init__() got an unexpected keyword argument 'max_depth'\n",
      "_pre_test decorator: _generate: num_test=0 Expected n_neighbors <= n_samples,  but n_samples = 50, n_neighbors = 96\n",
      "_pre_test decorator: _generate: num_test=1 __init__() got an unexpected keyword argument 'max_depth'\n",
      "_pre_test decorator: _generate: num_test=0 Found array with 0 feature(s) (shape=(50, 0)) while a minimum of 1 is required.\n",
      "_pre_test decorator: _generate: num_test=1 __init__() got an unexpected keyword argument 'max_depth'\n",
      "_pre_test decorator: _generate: num_test=0 Found array with 0 feature(s) (shape=(50, 0)) while a minimum of 1 is required.\n",
      "_pre_test decorator: _generate: num_test=0 __init__() got an unexpected keyword argument 'max_depth'\n",
      "_pre_test decorator: _generate: num_test=0 manhattan was provided as affinity. Ward can only work with euclidean distances.\n",
      "_pre_test decorator: _generate: num_test=0 __init__() got an unexpected keyword argument 'max_depth'\n",
      "_pre_test decorator: _generate: num_test=0 Found array with 0 feature(s) (shape=(50, 0)) while a minimum of 1 is required.\n",
      "_pre_test decorator: _generate: num_test=0 l1 was provided as affinity. Ward can only work with euclidean distances.\n",
      "_pre_test decorator: _generate: num_test=0 Unsupported set of arguments: The combination of penalty='l2' and loss='epsilon_insensitive' are not supported when dual=False, Parameters: penalty='l2', loss='epsilon_insensitive', dual=False\n",
      "_pre_test decorator: _generate: num_test=1 __init__() got an unexpected keyword argument 'max_depth'\n",
      "_pre_test decorator: _generate: num_test=0 __init__() got an unexpected keyword argument 'max_depth'\n"
     ]
    },
    {
     "name": "stderr",
     "output_type": "stream",
     "text": [
      "          on Progress:   0%|          | 26/15075 [10:42<118:43:02, 28.40s/pipeline]"
     ]
    },
    {
     "name": "stdout",
     "output_type": "stream",
     "text": [
      "Skipped pipeline #27 due to time out. Continuing to the next pipeline.\n"
     ]
    },
    {
     "name": "stderr",
     "output_type": "stream",
     "text": [
      "Optimization Progress:   0%|          | 72/15075 [20:53<70:44:06, 16.97s/pipeline] "
     ]
    },
    {
     "name": "stdout",
     "output_type": "stream",
     "text": [
      "_pre_test decorator: _random_mutation_operator: num_test=0 __init__() got an unexpected keyword argument 'max_depth'\n"
     ]
    },
    {
     "name": "stderr",
     "output_type": "stream",
     "text": [
      "\r",
      "          \r",
      "\r",
      "          \r",
      "Optimization Progress:   0%|          | 72/15075 [20:55<70:44:06, 16.97s/pipeline]\r",
      "          \r",
      "\r",
      "          \r",
      "Optimization Progress:   0%|          | 72/15075 [20:55<70:44:06, 16.97s/pipeline]\r",
      "          \r",
      "\r",
      "          \r",
      "Optimization Progress:   0%|          | 72/15075 [20:55<70:44:06, 16.97s/pipeline]\r",
      "          \r",
      "\r",
      "          \r",
      "Optimization Progress:   0%|          | 72/15075 [20:55<70:44:06, 16.97s/pipeline]"
     ]
    },
    {
     "name": "stdout",
     "output_type": "stream",
     "text": [
      "_pre_test decorator: _random_mutation_operator: num_test=0 Found array with 0 feature(s) (shape=(50, 0)) while a minimum of 1 is required.\n",
      "_pre_test decorator: _random_mutation_operator: num_test=1 Found array with 0 feature(s) (shape=(50, 0)) while a minimum of 1 is required.\n",
      "_pre_test decorator: _random_mutation_operator: num_test=2 Found array with 0 feature(s) (shape=(50, 0)) while a minimum of 1 is required.\n",
      "_pre_test decorator: _random_mutation_operator: num_test=3 Found array with 0 feature(s) (shape=(50, 0)) while a minimum of 1 is required.\n"
     ]
    },
    {
     "name": "stderr",
     "output_type": "stream",
     "text": [
      "\r",
      "          \r",
      "\r",
      "          \r",
      "Optimization Progress:   0%|          | 72/15075 [20:57<70:44:06, 16.97s/pipeline]"
     ]
    },
    {
     "name": "stdout",
     "output_type": "stream",
     "text": [
      "_pre_test decorator: _random_mutation_operator: num_test=0 __init__() got an unexpected keyword argument 'max_depth'\n"
     ]
    },
    {
     "name": "stderr",
     "output_type": "stream",
     "text": [
      "\r",
      "Optimization Progress:   1%|          | 76/15075 [20:58<50:14:37, 12.06s/pipeline]"
     ]
    },
    {
     "name": "stdout",
     "output_type": "stream",
     "text": [
      "Pipeline encountered that has previously been evaluated during the optimization process. Using the score from the previous evaluation.\n",
      "Pipeline encountered that has previously been evaluated during the optimization process. Using the score from the previous evaluation.\n",
      "Pipeline encountered that has previously been evaluated during the optimization process. Using the score from the previous evaluation.\n",
      "Pipeline encountered that has previously been evaluated during the optimization process. Using the score from the previous evaluation.\n"
     ]
    },
    {
     "name": "stderr",
     "output_type": "stream",
     "text": [
      "Optimization Progress:   1%|          | 105/15075 [33:03<102:25:07, 24.63s/pipeline]"
     ]
    },
    {
     "name": "stdout",
     "output_type": "stream",
     "text": [
      "Skipped pipeline #106 due to time out. Continuing to the next pipeline.\n"
     ]
    },
    {
     "name": "stderr",
     "output_type": "stream",
     "text": [
      "          on Progress:   1%|          | 140/15075 [39:39<51:33:49, 12.43s/pipeline] "
     ]
    },
    {
     "name": "stdout",
     "output_type": "stream",
     "text": [
      "Generation 1 - Current Pareto front scores:\n",
      "1\t0.5675394236667981\tAdaBoostRegressor(input_matrix, AdaBoostRegressor__learning_rate=0.01, AdaBoostRegressor__loss=linear, AdaBoostRegressor__max_depth=DEFAULT, AdaBoostRegressor__n_estimators=100)\n"
     ]
    },
    {
     "name": "stderr",
     "output_type": "stream",
     "text": [
      "\r",
      "\r",
      "          \r",
      "Optimization Progress:   1%|          | 140/15075 [39:39<51:33:49, 12.43s/pipeline]\r",
      "          \r",
      "\r",
      "          \r",
      "Optimization Progress:   1%|          | 140/15075 [39:45<51:33:49, 12.43s/pipeline]\r",
      "          \r",
      "\r",
      "          \r",
      "Optimization Progress:   1%|          | 140/15075 [39:45<51:33:49, 12.43s/pipeline]"
     ]
    },
    {
     "name": "stdout",
     "output_type": "stream",
     "text": [
      "\n",
      "_pre_test decorator: _random_mutation_operator: num_test=0 Found array with 0 feature(s) (shape=(50, 0)) while a minimum of 1 is required.\n",
      "_pre_test decorator: _random_mutation_operator: num_test=1 Found array with 0 feature(s) (shape=(50, 0)) while a minimum of 1 is required.\n"
     ]
    },
    {
     "name": "stderr",
     "output_type": "stream",
     "text": [
      "\r",
      "          \r",
      "\r",
      "          \r",
      "Optimization Progress:   1%|          | 140/15075 [39:46<51:33:49, 12.43s/pipeline]\r",
      "          \r",
      "\r",
      "          \r",
      "Optimization Progress:   1%|          | 140/15075 [39:46<51:33:49, 12.43s/pipeline]\r",
      "          \r",
      "\r",
      "          \r",
      "Optimization Progress:   1%|          | 140/15075 [39:46<51:33:49, 12.43s/pipeline]\r",
      "          \r",
      "\r",
      "          \r",
      "Optimization Progress:   1%|          | 140/15075 [39:46<51:33:49, 12.43s/pipeline]\r",
      "          \r",
      "\r",
      "          \r",
      "Optimization Progress:   1%|          | 140/15075 [39:46<51:33:49, 12.43s/pipeline]\r",
      "          \r",
      "\r",
      "          \r",
      "Optimization Progress:   1%|          | 140/15075 [39:46<51:33:49, 12.43s/pipeline]\r",
      "          \r",
      "\r",
      "          \r",
      "Optimization Progress:   1%|          | 140/15075 [39:46<51:33:49, 12.43s/pipeline]\r",
      "          \r",
      "\r",
      "          \r",
      "Optimization Progress:   1%|          | 140/15075 [39:46<51:33:49, 12.43s/pipeline]\r",
      "          \r",
      "\r",
      "          \r",
      "Optimization Progress:   1%|          | 140/15075 [39:46<51:33:49, 12.43s/pipeline]\r",
      "          \r",
      "\r",
      "          \r",
      "Optimization Progress:   1%|          | 140/15075 [39:46<51:33:49, 12.43s/pipeline]"
     ]
    },
    {
     "name": "stdout",
     "output_type": "stream",
     "text": [
      "_pre_test decorator: _random_mutation_operator: num_test=0 __init__() got an unexpected keyword argument 'max_depth'\n",
      "_pre_test decorator: _random_mutation_operator: num_test=1 __init__() got an unexpected keyword argument 'max_depth'\n",
      "_pre_test decorator: _random_mutation_operator: num_test=2 __init__() got an unexpected keyword argument 'max_depth'\n",
      "_pre_test decorator: _random_mutation_operator: num_test=3 __init__() got an unexpected keyword argument 'max_depth'\n",
      "_pre_test decorator: _random_mutation_operator: num_test=4 __init__() got an unexpected keyword argument 'max_depth'\n",
      "_pre_test decorator: _random_mutation_operator: num_test=5 __init__() got an unexpected keyword argument 'max_depth'\n",
      "_pre_test decorator: _random_mutation_operator: num_test=6 __init__() got an unexpected keyword argument 'max_depth'\n",
      "_pre_test decorator: _random_mutation_operator: num_test=7 __init__() got an unexpected keyword argument 'max_depth'\n",
      "_pre_test decorator: _random_mutation_operator: num_test=8 __init__() got an unexpected keyword argument 'max_depth'\n",
      "_pre_test decorator: _random_mutation_operator: num_test=9 __init__() got an unexpected keyword argument 'max_depth'\n"
     ]
    },
    {
     "name": "stderr",
     "output_type": "stream",
     "text": [
      "\r",
      "Optimization Progress:   1%|          | 142/15075 [39:47<38:11:42,  9.21s/pipeline]"
     ]
    },
    {
     "name": "stdout",
     "output_type": "stream",
     "text": [
      "Pipeline encountered that has previously been evaluated during the optimization process. Using the score from the previous evaluation.\n",
      "Pipeline encountered that has previously been evaluated during the optimization process. Using the score from the previous evaluation.\n",
      "Pipeline encountered that has previously been evaluated during the optimization process. Using the score from the previous evaluation.\n",
      "Pipeline encountered that has previously been evaluated during the optimization process. Using the score from the previous evaluation.\n",
      "Pipeline encountered that has previously been evaluated during the optimization process. Using the score from the previous evaluation.\n",
      "Pipeline encountered that has previously been evaluated during the optimization process. Using the score from the previous evaluation.\n",
      "Pipeline encountered that has previously been evaluated during the optimization process. Using the score from the previous evaluation.\n",
      "Pipeline encountered that has previously been evaluated during the optimization process. Using the score from the previous evaluation.\n",
      "Pipeline encountered that has previously been evaluated during the optimization process. Using the score from the previous evaluation.\n",
      "Pipeline encountered that has previously been evaluated during the optimization process. Using the score from the previous evaluation.\n",
      "Pipeline encountered that has previously been evaluated during the optimization process. Using the score from the previous evaluation.\n",
      "Pipeline encountered that has previously been evaluated during the optimization process. Using the score from the previous evaluation.\n",
      "Pipeline encountered that has previously been evaluated during the optimization process. Using the score from the previous evaluation.\n"
     ]
    },
    {
     "name": "stderr",
     "output_type": "stream",
     "text": [
      "Optimization Progress:   1%|▏         | 210/15075 [50:40<42:02:55, 10.18s/pipeline]"
     ]
    },
    {
     "name": "stdout",
     "output_type": "stream",
     "text": [
      "Generation 2 - Current Pareto front scores:\n",
      "1\t0.5680359744630428\tGradientBoostingRegressor(input_matrix, GradientBoostingRegressor__alpha=0.9, GradientBoostingRegressor__learning_rate=0.1, GradientBoostingRegressor__loss=huber, GradientBoostingRegressor__max_depth=2, GradientBoostingRegressor__max_features=DEFAULT, GradientBoostingRegressor__min_samples_leaf=14, GradientBoostingRegressor__min_samples_split=DEFAULT, GradientBoostingRegressor__n_estimators=100, GradientBoostingRegressor__subsample=1.0)\n",
      "\n"
     ]
    },
    {
     "name": "stderr",
     "output_type": "stream",
     "text": [
      "\r",
      "          \r",
      "\r",
      "          \r",
      "Optimization Progress:   1%|▏         | 210/15075 [50:41<42:02:55, 10.18s/pipeline]\r",
      "          \r",
      "\r",
      "          \r",
      "Optimization Progress:   1%|▏         | 210/15075 [50:41<42:02:55, 10.18s/pipeline]\r",
      "          \r",
      "\r",
      "          \r",
      "Optimization Progress:   1%|▏         | 210/15075 [50:41<42:02:55, 10.18s/pipeline]\r",
      "          \r",
      "\r",
      "          \r",
      "Optimization Progress:   1%|▏         | 210/15075 [50:41<42:02:55, 10.18s/pipeline]\r",
      "          \r",
      "\r",
      "          \r",
      "Optimization Progress:   1%|▏         | 210/15075 [50:41<42:02:55, 10.18s/pipeline]\r",
      "          \r",
      "\r",
      "          \r",
      "Optimization Progress:   1%|▏         | 210/15075 [50:41<42:02:55, 10.18s/pipeline]\r",
      "          \r",
      "\r",
      "          \r",
      "Optimization Progress:   1%|▏         | 210/15075 [50:41<42:02:55, 10.18s/pipeline]\r",
      "          \r",
      "\r",
      "          \r",
      "Optimization Progress:   1%|▏         | 210/15075 [50:41<42:02:55, 10.18s/pipeline]\r",
      "          \r",
      "\r",
      "          \r",
      "Optimization Progress:   1%|▏         | 210/15075 [50:41<42:02:55, 10.18s/pipeline]\r",
      "          \r",
      "\r",
      "          \r",
      "Optimization Progress:   1%|▏         | 210/15075 [50:41<42:02:55, 10.18s/pipeline]"
     ]
    },
    {
     "name": "stdout",
     "output_type": "stream",
     "text": [
      "_pre_test decorator: _random_mutation_operator: num_test=0 __init__() got an unexpected keyword argument 'max_depth'\n",
      "_pre_test decorator: _random_mutation_operator: num_test=1 __init__() got an unexpected keyword argument 'max_depth'\n",
      "_pre_test decorator: _random_mutation_operator: num_test=2 __init__() got an unexpected keyword argument 'max_depth'\n",
      "_pre_test decorator: _random_mutation_operator: num_test=3 __init__() got an unexpected keyword argument 'max_depth'\n",
      "_pre_test decorator: _random_mutation_operator: num_test=4 __init__() got an unexpected keyword argument 'max_depth'\n",
      "_pre_test decorator: _random_mutation_operator: num_test=5 __init__() got an unexpected keyword argument 'max_depth'\n",
      "_pre_test decorator: _random_mutation_operator: num_test=6 __init__() got an unexpected keyword argument 'max_depth'\n",
      "_pre_test decorator: _random_mutation_operator: num_test=7 __init__() got an unexpected keyword argument 'max_depth'\n",
      "_pre_test decorator: _random_mutation_operator: num_test=8 __init__() got an unexpected keyword argument 'max_depth'\n",
      "_pre_test decorator: _random_mutation_operator: num_test=9 __init__() got an unexpected keyword argument 'max_depth'\n"
     ]
    },
    {
     "name": "stderr",
     "output_type": "stream",
     "text": [
      "\r",
      "          \r",
      "\r",
      "          \r",
      "Optimization Progress:   1%|▏         | 210/15075 [50:42<42:02:55, 10.18s/pipeline]\r",
      "          \r",
      "\r",
      "          \r",
      "Optimization Progress:   1%|▏         | 210/15075 [50:42<42:02:55, 10.18s/pipeline]\r",
      "          \r",
      "\r",
      "          \r",
      "Optimization Progress:   1%|▏         | 210/15075 [50:42<42:02:55, 10.18s/pipeline]\r",
      "          \r",
      "\r",
      "          \r",
      "Optimization Progress:   1%|▏         | 210/15075 [50:42<42:02:55, 10.18s/pipeline]\r",
      "          \r",
      "\r",
      "          \r",
      "Optimization Progress:   1%|▏         | 210/15075 [50:42<42:02:55, 10.18s/pipeline]\r",
      "          \r",
      "\r",
      "          \r",
      "Optimization Progress:   1%|▏         | 210/15075 [50:42<42:02:55, 10.18s/pipeline]\r",
      "          \r",
      "\r",
      "          \r",
      "Optimization Progress:   1%|▏         | 210/15075 [50:42<42:02:55, 10.18s/pipeline]"
     ]
    },
    {
     "name": "stdout",
     "output_type": "stream",
     "text": [
      "_pre_test decorator: _random_mutation_operator: num_test=0 __init__() got an unexpected keyword argument 'max_depth'\n",
      "_pre_test decorator: _random_mutation_operator: num_test=1 __init__() got an unexpected keyword argument 'max_depth'\n",
      "_pre_test decorator: _random_mutation_operator: num_test=2 __init__() got an unexpected keyword argument 'max_depth'\n",
      "_pre_test decorator: _random_mutation_operator: num_test=3 __init__() got an unexpected keyword argument 'max_depth'\n",
      "_pre_test decorator: _random_mutation_operator: num_test=4 __init__() got an unexpected keyword argument 'max_depth'\n",
      "_pre_test decorator: _random_mutation_operator: num_test=5 __init__() got an unexpected keyword argument 'max_depth'\n",
      "_pre_test decorator: _random_mutation_operator: num_test=6 __init__() got an unexpected keyword argument 'max_depth'\n"
     ]
    },
    {
     "name": "stderr",
     "output_type": "stream",
     "text": [
      "\r",
      "          \r",
      "\r",
      "          \r",
      "Optimization Progress:   1%|▏         | 210/15075 [50:45<42:02:55, 10.18s/pipeline]\r",
      "          \r",
      "\r",
      "          \r",
      "Optimization Progress:   1%|▏         | 210/15075 [50:45<42:02:55, 10.18s/pipeline]\r",
      "          \r",
      "\r",
      "          \r",
      "Optimization Progress:   1%|▏         | 210/15075 [50:45<42:02:55, 10.18s/pipeline]\r",
      "          \r",
      "\r",
      "          \r",
      "Optimization Progress:   1%|▏         | 210/15075 [50:45<42:02:55, 10.18s/pipeline]\r",
      "          \r",
      "\r",
      "          \r",
      "Optimization Progress:   1%|▏         | 210/15075 [50:45<42:02:55, 10.18s/pipeline]\r",
      "          \r",
      "\r",
      "          \r",
      "Optimization Progress:   1%|▏         | 210/15075 [50:45<42:02:55, 10.18s/pipeline]\r",
      "          \r",
      "\r",
      "          \r",
      "Optimization Progress:   1%|▏         | 210/15075 [50:45<42:02:55, 10.18s/pipeline]\r",
      "          \r",
      "\r",
      "          \r",
      "Optimization Progress:   1%|▏         | 210/15075 [50:45<42:02:55, 10.18s/pipeline]\r",
      "          \r",
      "\r",
      "          \r",
      "Optimization Progress:   1%|▏         | 210/15075 [50:45<42:02:55, 10.18s/pipeline]\r",
      "          \r",
      "\r",
      "          \r",
      "Optimization Progress:   1%|▏         | 210/15075 [50:45<42:02:55, 10.18s/pipeline]"
     ]
    },
    {
     "name": "stdout",
     "output_type": "stream",
     "text": [
      "_pre_test decorator: _random_mutation_operator: num_test=0 __init__() got an unexpected keyword argument 'max_depth'\n",
      "_pre_test decorator: _random_mutation_operator: num_test=1 __init__() got an unexpected keyword argument 'max_depth'\n",
      "_pre_test decorator: _random_mutation_operator: num_test=2 __init__() got an unexpected keyword argument 'max_depth'\n",
      "_pre_test decorator: _random_mutation_operator: num_test=3 __init__() got an unexpected keyword argument 'max_depth'\n",
      "_pre_test decorator: _random_mutation_operator: num_test=4 __init__() got an unexpected keyword argument 'max_depth'\n",
      "_pre_test decorator: _random_mutation_operator: num_test=5 __init__() got an unexpected keyword argument 'max_depth'\n",
      "_pre_test decorator: _random_mutation_operator: num_test=6 __init__() got an unexpected keyword argument 'max_depth'\n",
      "_pre_test decorator: _random_mutation_operator: num_test=7 __init__() got an unexpected keyword argument 'max_depth'\n",
      "_pre_test decorator: _random_mutation_operator: num_test=8 __init__() got an unexpected keyword argument 'max_depth'\n",
      "_pre_test decorator: _random_mutation_operator: num_test=9 __init__() got an unexpected keyword argument 'max_depth'\n"
     ]
    },
    {
     "name": "stderr",
     "output_type": "stream",
     "text": [
      "\r",
      "          \r",
      "\r",
      "          \r",
      "Optimization Progress:   1%|▏         | 210/15075 [50:52<42:02:55, 10.18s/pipeline]\r",
      "          \r",
      "\r",
      "          \r",
      "Optimization Progress:   1%|▏         | 210/15075 [50:52<42:02:55, 10.18s/pipeline]"
     ]
    },
    {
     "name": "stdout",
     "output_type": "stream",
     "text": [
      "_pre_test decorator: _random_mutation_operator: num_test=0 Found array with 0 feature(s) (shape=(50, 0)) while a minimum of 1 is required.\n",
      "_pre_test decorator: _random_mutation_operator: num_test=1 Found array with 0 feature(s) (shape=(50, 0)) while a minimum of 1 is required.\n"
     ]
    },
    {
     "name": "stderr",
     "output_type": "stream",
     "text": [
      "\r",
      "          \r",
      "\r",
      "          \r",
      "Optimization Progress:   1%|▏         | 210/15075 [50:53<42:02:55, 10.18s/pipeline]\r",
      "          \r",
      "\r",
      "          \r",
      "Optimization Progress:   1%|▏         | 210/15075 [50:53<42:02:55, 10.18s/pipeline]\r",
      "          \r",
      "\r",
      "          \r",
      "Optimization Progress:   1%|▏         | 210/15075 [50:53<42:02:55, 10.18s/pipeline]\r",
      "          \r",
      "\r",
      "          \r",
      "Optimization Progress:   1%|▏         | 210/15075 [50:53<42:02:55, 10.18s/pipeline]\r",
      "          \r",
      "\r",
      "          \r",
      "Optimization Progress:   1%|▏         | 210/15075 [50:53<42:02:55, 10.18s/pipeline]\r",
      "          \r",
      "\r",
      "          \r",
      "Optimization Progress:   1%|▏         | 210/15075 [50:53<42:02:55, 10.18s/pipeline]\r",
      "          \r",
      "\r",
      "          \r",
      "Optimization Progress:   1%|▏         | 210/15075 [50:53<42:02:55, 10.18s/pipeline]\r",
      "          \r",
      "\r",
      "          \r",
      "Optimization Progress:   1%|▏         | 210/15075 [50:53<42:02:55, 10.18s/pipeline]\r",
      "          \r",
      "\r",
      "          \r",
      "Optimization Progress:   1%|▏         | 210/15075 [50:53<42:02:55, 10.18s/pipeline]\r",
      "          \r",
      "\r",
      "          \r",
      "Optimization Progress:   1%|▏         | 210/15075 [50:53<42:02:55, 10.18s/pipeline]"
     ]
    },
    {
     "name": "stdout",
     "output_type": "stream",
     "text": [
      "_pre_test decorator: _random_mutation_operator: num_test=0 Unsupported set of arguments: The combination of penalty='l2' and loss='epsilon_insensitive' are not supported when dual=False, Parameters: penalty='l2', loss='epsilon_insensitive', dual=False\n",
      "_pre_test decorator: _random_mutation_operator: num_test=1 Unsupported set of arguments: The combination of penalty='l2' and loss='epsilon_insensitive' are not supported when dual=False, Parameters: penalty='l2', loss='epsilon_insensitive', dual=False\n",
      "_pre_test decorator: _random_mutation_operator: num_test=2 Unsupported set of arguments: The combination of penalty='l2' and loss='epsilon_insensitive' are not supported when dual=False, Parameters: penalty='l2', loss='epsilon_insensitive', dual=False\n",
      "_pre_test decorator: _random_mutation_operator: num_test=3 Unsupported set of arguments: The combination of penalty='l2' and loss='epsilon_insensitive' are not supported when dual=False, Parameters: penalty='l2', loss='epsilon_insensitive', dual=False\n",
      "_pre_test decorator: _random_mutation_operator: num_test=4 Unsupported set of arguments: The combination of penalty='l2' and loss='epsilon_insensitive' are not supported when dual=False, Parameters: penalty='l2', loss='epsilon_insensitive', dual=False\n",
      "_pre_test decorator: _random_mutation_operator: num_test=5 Unsupported set of arguments: The combination of penalty='l2' and loss='epsilon_insensitive' are not supported when dual=False, Parameters: penalty='l2', loss='epsilon_insensitive', dual=False\n",
      "_pre_test decorator: _random_mutation_operator: num_test=6 Unsupported set of arguments: The combination of penalty='l2' and loss='epsilon_insensitive' are not supported when dual=False, Parameters: penalty='l2', loss='epsilon_insensitive', dual=False\n",
      "_pre_test decorator: _random_mutation_operator: num_test=7 Unsupported set of arguments: The combination of penalty='l2' and loss='epsilon_insensitive' are not supported when dual=False, Parameters: penalty='l2', loss='epsilon_insensitive', dual=False\n",
      "_pre_test decorator: _random_mutation_operator: num_test=8 Unsupported set of arguments: The combination of penalty='l2' and loss='epsilon_insensitive' are not supported when dual=False, Parameters: penalty='l2', loss='epsilon_insensitive', dual=False\n",
      "_pre_test decorator: _random_mutation_operator: num_test=9 Unsupported set of arguments: The combination of penalty='l2' and loss='epsilon_insensitive' are not supported when dual=False, Parameters: penalty='l2', loss='epsilon_insensitive', dual=False\n"
     ]
    },
    {
     "name": "stderr",
     "output_type": "stream",
     "text": [
      "\r",
      "          \r",
      "\r",
      "          \r",
      "Optimization Progress:   1%|▏         | 210/15075 [50:57<42:02:55, 10.18s/pipeline]\r",
      "          \r",
      "\r",
      "          \r",
      "Optimization Progress:   1%|▏         | 210/15075 [50:57<42:02:55, 10.18s/pipeline]\r",
      "          \r",
      "\r",
      "          \r",
      "Optimization Progress:   1%|▏         | 210/15075 [50:57<42:02:55, 10.18s/pipeline]\r",
      "          \r",
      "\r",
      "          \r",
      "Optimization Progress:   1%|▏         | 210/15075 [50:57<42:02:55, 10.18s/pipeline]\r",
      "          \r",
      "\r",
      "          \r",
      "Optimization Progress:   1%|▏         | 210/15075 [50:57<42:02:55, 10.18s/pipeline]\r",
      "          \r",
      "\r",
      "          \r",
      "Optimization Progress:   1%|▏         | 210/15075 [50:57<42:02:55, 10.18s/pipeline]\r",
      "          \r",
      "\r",
      "          \r",
      "Optimization Progress:   1%|▏         | 210/15075 [50:57<42:02:55, 10.18s/pipeline]\r",
      "          \r",
      "\r",
      "          \r",
      "Optimization Progress:   1%|▏         | 210/15075 [50:57<42:02:55, 10.18s/pipeline]\r",
      "          \r",
      "\r",
      "          \r",
      "Optimization Progress:   1%|▏         | 210/15075 [50:57<42:02:55, 10.18s/pipeline]\r",
      "          \r",
      "\r",
      "          \r",
      "Optimization Progress:   1%|▏         | 210/15075 [50:57<42:02:55, 10.18s/pipeline]"
     ]
    },
    {
     "name": "stdout",
     "output_type": "stream",
     "text": [
      "_pre_test decorator: _random_mutation_operator: num_test=0 __init__() got an unexpected keyword argument 'max_depth'\n",
      "_pre_test decorator: _random_mutation_operator: num_test=1 __init__() got an unexpected keyword argument 'max_depth'\n",
      "_pre_test decorator: _random_mutation_operator: num_test=2 __init__() got an unexpected keyword argument 'max_depth'\n",
      "_pre_test decorator: _random_mutation_operator: num_test=3 __init__() got an unexpected keyword argument 'max_depth'\n",
      "_pre_test decorator: _random_mutation_operator: num_test=4 __init__() got an unexpected keyword argument 'max_depth'\n",
      "_pre_test decorator: _random_mutation_operator: num_test=5 __init__() got an unexpected keyword argument 'max_depth'\n",
      "_pre_test decorator: _random_mutation_operator: num_test=6 __init__() got an unexpected keyword argument 'max_depth'\n",
      "_pre_test decorator: _random_mutation_operator: num_test=7 __init__() got an unexpected keyword argument 'max_depth'\n",
      "_pre_test decorator: _random_mutation_operator: num_test=8 __init__() got an unexpected keyword argument 'max_depth'\n",
      "_pre_test decorator: _random_mutation_operator: num_test=9 __init__() got an unexpected keyword argument 'max_depth'\n"
     ]
    },
    {
     "name": "stderr",
     "output_type": "stream",
     "text": [
      "\r",
      "          \r",
      "\r",
      "          \r",
      "Optimization Progress:   1%|▏         | 210/15075 [51:00<42:02:55, 10.18s/pipeline]\r",
      "          \r",
      "\r",
      "          \r",
      "Optimization Progress:   1%|▏         | 210/15075 [51:00<42:02:55, 10.18s/pipeline]\r",
      "          \r",
      "\r",
      "          \r",
      "Optimization Progress:   1%|▏         | 210/15075 [51:00<42:02:55, 10.18s/pipeline]\r",
      "          \r",
      "\r",
      "          \r",
      "Optimization Progress:   1%|▏         | 210/15075 [51:00<42:02:55, 10.18s/pipeline]"
     ]
    },
    {
     "name": "stdout",
     "output_type": "stream",
     "text": [
      "_pre_test decorator: _random_mutation_operator: num_test=0 __init__() got an unexpected keyword argument 'max_depth'\n",
      "_pre_test decorator: _random_mutation_operator: num_test=1 __init__() got an unexpected keyword argument 'max_depth'\n",
      "_pre_test decorator: _random_mutation_operator: num_test=2 __init__() got an unexpected keyword argument 'max_depth'\n",
      "_pre_test decorator: _random_mutation_operator: num_test=3 __init__() got an unexpected keyword argument 'max_depth'\n"
     ]
    },
    {
     "name": "stderr",
     "output_type": "stream",
     "text": [
      "\r",
      "Optimization Progress:   1%|▏         | 216/15075 [51:01<31:42:39,  7.68s/pipeline]"
     ]
    },
    {
     "name": "stdout",
     "output_type": "stream",
     "text": [
      "Pipeline encountered that has previously been evaluated during the optimization process. Using the score from the previous evaluation.\n",
      "Pipeline encountered that has previously been evaluated during the optimization process. Using the score from the previous evaluation.\n",
      "Pipeline encountered that has previously been evaluated during the optimization process. Using the score from the previous evaluation.\n",
      "Pipeline encountered that has previously been evaluated during the optimization process. Using the score from the previous evaluation.\n",
      "Pipeline encountered that has previously been evaluated during the optimization process. Using the score from the previous evaluation.\n",
      "Pipeline encountered that has previously been evaluated during the optimization process. Using the score from the previous evaluation.\n",
      "Pipeline encountered that has previously been evaluated during the optimization process. Using the score from the previous evaluation.\n"
     ]
    },
    {
     "name": "stderr",
     "output_type": "stream",
     "text": [
      "          on Progress:   2%|▏         | 228/15075 [1:02:39<71:03:34, 17.23s/pipeline] "
     ]
    },
    {
     "name": "stdout",
     "output_type": "stream",
     "text": [
      "Skipped pipeline #230 due to time out. Continuing to the next pipeline.\n"
     ]
    },
    {
     "name": "stderr",
     "output_type": "stream",
     "text": [
      "          on Progress:   2%|▏         | 243/15075 [1:04:35<51:27:06, 12.49s/pipeline]\r"
     ]
    },
    {
     "name": "stdout",
     "output_type": "stream",
     "text": [
      "\n"
     ]
    },
    {
     "name": "stderr",
     "output_type": "stream",
     "text": [
      "                                                                                     \r"
     ]
    },
    {
     "name": "stdout",
     "output_type": "stream",
     "text": [
      "TPOT closed prematurely. Will use the current best pipeline.\n"
     ]
    },
    {
     "data": {
      "text/plain": [
       "TPOTRegressor(config_dict={'sklearn.linear_model.RidgeCV': {}, 'sklearn.decomposition.PCA': {'svd_solver': ['randomized'], 'iterated_power': range(1, 11)}, 'sklearn.tree.DecisionTreeRegressor': {'min_samples_split': range(2, 21), 'min_samples_leaf': range(1, 21), 'max_depth': range(1, 11)}, 'sklearn.feature_selec...entile': {'percentile': range(1, 100), 'score_func': {'sklearn.feature_selection.f_classif': None}}},\n",
       "       crossover_rate=0.1, cv=5, disable_update_check=False,\n",
       "       generations=200, max_eval_time_mins=5, max_time_mins=None,\n",
       "       mutation_rate=0.9, n_jobs=2, offspring_size=75, population_size=75,\n",
       "       random_state=None, scoring=None, subsample=1.0, verbosity=3,\n",
       "       warm_start=False)"
      ]
     },
     "execution_count": 13,
     "metadata": {},
     "output_type": "execute_result"
    }
   ],
   "source": [
    "########\n",
    "#TPOT\n",
    "########\n",
    "\n",
    "#little support for multicores\n",
    "\n",
    "from tpot import TPOTRegressor\n",
    "\n",
    "tpot = TPOTRegressor(generations=200, population_size=75, \n",
    "                     verbosity=3, scoring ='r2',\n",
    "                     cv = 5, n_jobs = 2)\n",
    "\n",
    "tpot.fit(x_train, y_train)"
   ]
  },
  {
   "cell_type": "code",
   "execution_count": null,
   "metadata": {
    "collapsed": true
   },
   "outputs": [],
   "source": []
  }
 ],
 "metadata": {
  "kernelspec": {
   "display_name": "Python 3",
   "language": "python",
   "name": "python3"
  },
  "language_info": {
   "codemirror_mode": {
    "name": "ipython",
    "version": 3
   },
   "file_extension": ".py",
   "mimetype": "text/x-python",
   "name": "python",
   "nbconvert_exporter": "python",
   "pygments_lexer": "ipython3",
   "version": "3.5.2"
  }
 },
 "nbformat": 4,
 "nbformat_minor": 2
}
